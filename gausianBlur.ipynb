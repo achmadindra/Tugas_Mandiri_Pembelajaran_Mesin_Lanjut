{
  "nbformat": 4,
  "nbformat_minor": 0,
  "metadata": {
    "colab": {
      "name": "gausianBlur.ipynb",
      "provenance": [],
      "collapsed_sections": [],
      "include_colab_link": true
    },
    "kernelspec": {
      "name": "python3",
      "display_name": "Python 3"
    },
    "language_info": {
      "name": "python"
    }
  },
  "cells": [
    {
      "cell_type": "markdown",
      "metadata": {
        "id": "view-in-github",
        "colab_type": "text"
      },
      "source": [
        "<a href=\"https://colab.research.google.com/github/achmadindra/Tugas_Mandiri_Pembelajaran_Mesin_Lanjut/blob/main/gausianBlur.ipynb\" target=\"_parent\"><img src=\"https://colab.research.google.com/assets/colab-badge.svg\" alt=\"Open In Colab\"/></a>"
      ]
    },
    {
      "cell_type": "markdown",
      "source": [
        "# Proses Data augmentation, penambahan data hasil Gaussian Blur pada database"
      ],
      "metadata": {
        "id": "c8OY_YNkQTeL"
      }
    },
    {
      "cell_type": "code",
      "execution_count": null,
      "metadata": {
        "colab": {
          "base_uri": "https://localhost:8080/"
        },
        "id": "sXxT6ezDcufx",
        "outputId": "3652e03d-6cb0-4992-f0cf-93dad5f45d2b"
      },
      "outputs": [
        {
          "output_type": "stream",
          "name": "stdout",
          "text": [
            "Mounted at /content/drive/\n"
          ]
        }
      ],
      "source": [
        "from google.colab import drive\n",
        "drive.mount('/content/drive/')"
      ]
    },
    {
      "cell_type": "code",
      "source": [
        "#baca file di folder kelas\n",
        "filetes = open(\"/content/drive/MyDrive/tugasFR/tes/listtest.txt\", \"r\")\n",
        "listfile=filetes.readlines()\n",
        "print(listfile)"
      ],
      "metadata": {
        "colab": {
          "base_uri": "https://localhost:8080/"
        },
        "id": "P8b-bjaVQxrc",
        "outputId": "0e7a212f-e724-48d5-f530-c088c2d88ea7"
      },
      "execution_count": null,
      "outputs": [
        {
          "output_type": "stream",
          "name": "stdout",
          "text": [
            "['andik wijanarko.jpg\\n', 'ahmad luky ramdani(1).jpg\\n', 'adiyasa nurfalah-2.jpg\\n', 'handoko supeno.jpg\\n', 'dewi tresnawati (1).jpg\\n', 'baud prananto.jpg\\n', 'arief sartono 2.jpg\\n', 'rahman indra kesuma.jpeg\\n', 'ricky isfandiari (2).jpeg\\n', 'muhammad khaerul naim 3.jpg\\n', 'meredita susanty.jpg\\n', 'lathifah arief.jpg\\n', 'imam ekowicaksono_1_.jpg\\n', 'hartanto tantriawan (1).jpg\\n', 'yaya setiyadi_1.jpg\\n', 'varuliantor dear.jpg\\n', 'sulthoni ashiddiiqi-2.jpg\\n', 'riza ibnu adam-2.jpg\\n', 'riyanto riyanto2.jpeg\\n', 'mina ismu rahayu (2).jpg\\n', 'meza silvana.jpg\\n', 'reza budiawan(1).jpg']\n"
          ]
        }
      ]
    },
    {
      "cell_type": "code",
      "source": [
        "#hapus karakter \\n\n",
        "newlistfile=[]\n",
        "for i in listfile:\n",
        "  newlistfile.append(i.strip())"
      ],
      "metadata": {
        "id": "i_OcR10BRHYU"
      },
      "execution_count": null,
      "outputs": []
    },
    {
      "cell_type": "code",
      "source": [
        "print(newlistfile)"
      ],
      "metadata": {
        "colab": {
          "base_uri": "https://localhost:8080/"
        },
        "id": "g-qs0p4vRZPj",
        "outputId": "4ccbc22c-0200-4d16-d460-5cbdc23816d9"
      },
      "execution_count": null,
      "outputs": [
        {
          "output_type": "stream",
          "name": "stdout",
          "text": [
            "['andik wijanarko.jpg', 'ahmad luky ramdani(1).jpg', 'adiyasa nurfalah-2.jpg', 'handoko supeno.jpg', 'dewi tresnawati (1).jpg', 'baud prananto.jpg', 'arief sartono 2.jpg', 'rahman indra kesuma.jpeg', 'ricky isfandiari (2).jpeg', 'muhammad khaerul naim 3.jpg', 'meredita susanty.jpg', 'lathifah arief.jpg', 'imam ekowicaksono_1_.jpg', 'hartanto tantriawan (1).jpg', 'yaya setiyadi_1.jpg', 'varuliantor dear.jpg', 'sulthoni ashiddiiqi-2.jpg', 'riza ibnu adam-2.jpg', 'riyanto riyanto2.jpeg', 'mina ismu rahayu (2).jpg', 'meza silvana.jpg', 'reza budiawan(1).jpg']\n"
          ]
        }
      ]
    },
    {
      "cell_type": "code",
      "source": [
        "import cv2\n",
        "import os"
      ],
      "metadata": {
        "id": "ZBBfI00lNpUW"
      },
      "execution_count": null,
      "outputs": []
    },
    {
      "cell_type": "code",
      "source": [
        "#convert img dg Gausian Blur\n",
        "for filename in os.listdir('/content/drive/MyDrive/tugasFR/Kelas'):\n",
        "  ext = [\".jpg\", \".jpeg\", \".png\", \".jfif\"]\n",
        "  if filename.endswith(tuple(ext)):\n",
        "\n",
        "    img_path=\"/content/drive/MyDrive/tugasFR/Kelas/\"+filename\n",
        "    img = cv2.imread(img_path)\n",
        "    gray = cv2.cvtColor(img,cv2.COLOR_BGR2GRAY)\n",
        "    smooth = cv2.GaussianBlur(gray, (125,125), 0)\n",
        "    division = cv2.divide(gray, smooth, scale=255)\n",
        "    lensubstring=len(filename)\n",
        "    posTitik=filename.rfind('.', 0, lensubstring)\n",
        "    nmFile=filename[0:posTitik]\n",
        "    fileBaru=nmFile+' GB'\n",
        "    print(fileBaru)\n",
        "    pathfilebaru=\"/content/drive/MyDrive/tugasFR/Kelas/\"+fileBaru+\".jpg\"\n",
        "    cv2.imwrite(pathfilebaru,division)"
      ],
      "metadata": {
        "colab": {
          "base_uri": "https://localhost:8080/"
        },
        "id": "cPTPeEzPSGYo",
        "outputId": "f7da813f-55df-4471-e63c-239061e8b6fc"
      },
      "execution_count": null,
      "outputs": [
        {
          "output_type": "stream",
          "name": "stdout",
          "text": [
            "baud prananto GB\n",
            "handoko supeno 1 GB\n",
            "andik wijanarko GB\n",
            "achmad indra aulia GB\n",
            "meza silvana GB\n",
            "imam ekowicaksono GB\n",
            "meredita susanty GB\n",
            "arief ichwani GB\n",
            "handoko supeno GB\n",
            "ahmad luky ramdani GB\n",
            "arief sartono GB\n",
            "lathifah arief GB\n",
            "reza budiawan GB\n",
            "dewi tresnawati GB\n",
            "mohamad idris GB\n",
            "leni fitriani GB\n",
            "hartanto tantriawan 1  GB\n",
            "mina ismu rahayu(1) GB\n",
            "riyanto riyanto GB\n",
            "kemas muhammad irsan riza (1) GB\n",
            "ricky isfandiari GB\n",
            "yaya setiyadi 1 GB\n",
            "varuliantor dear GB\n",
            "sulthoni ashiddiiqi GB\n",
            "adiyasa nurfalah GB\n",
            "riza ibnu adam 1 GB\n",
            "rahman indra kesuma GB\n",
            "muhammad khaerul naim GB\n"
          ]
        }
      ]
    }
  ]
}